{
 "cells": [
  {
   "cell_type": "code",
   "execution_count": 97,
   "metadata": {},
   "outputs": [],
   "source": [
    "import pandas as pd\n",
    "from sklearn.model_selection import train_test_split\n",
    "from sklearn.preprocessing import LabelEncoder\n",
    "from transformers import BertTokenizer, BertForSequenceClassification, AdamW\n",
    "from torch.utils.data import DataLoader, Dataset\n",
    "import torch\n",
    "from tqdm import tqdm\n"
   ]
  },
  {
   "cell_type": "code",
   "execution_count": 100,
   "metadata": {},
   "outputs": [
    {
     "name": "stdout",
     "output_type": "stream",
     "text": [
      "                                                Text    Label  Target\n",
      "76                 Guardsman Gold Complete Plus Plan  PRODUCT       1\n",
      "42  Handmade Artist 's Passion Engineer 's Integrity  PRODUCT       1\n",
      "49                       COFFEE TABLE | Lulu Tallira  PRODUCT       1\n"
     ]
    }
   ],
   "source": [
    "data = pd.read_csv(\"/Users/vladcalomfirescu/Desktop/MyFiles/DEV/ML/Veridion-Project/data/traning_data.csv\")  # Replace with your actual file path\n",
    "\n",
    "product_data = data[data['Label'] == 'PRODUCT']\n",
    "product_data['Target'] = 1\n",
    "\n",
    "train_data, val_data = train_test_split(product_data, test_size=0.2, random_state=42)\n",
    "print(train_data.head(3))\n"
   ]
  },
  {
   "cell_type": "code",
   "execution_count": 35,
   "metadata": {},
   "outputs": [
    {
     "name": "stderr",
     "output_type": "stream",
     "text": [
      "Some weights of BertForSequenceClassification were not initialized from the model checkpoint at bert-base-uncased and are newly initialized: ['classifier.weight', 'classifier.bias']\n",
      "You should probably TRAIN this model on a down-stream task to be able to use it for predictions and inference.\n"
     ]
    }
   ],
   "source": [
    "tokenizer = BertTokenizer.from_pretrained('bert-base-uncased')\n",
    "model = BertForSequenceClassification.from_pretrained('bert-base-uncased', num_labels=1)\n"
   ]
  },
  {
   "cell_type": "code",
   "execution_count": 36,
   "metadata": {},
   "outputs": [],
   "source": [
    "train_texts = train_data['Text'].tolist()\n",
    "train_labels = train_data['Target'].tolist()\n",
    "val_texts = val_data['Text'].tolist()\n",
    "val_labels = val_data['Target'].tolist()\n",
    "\n",
    "train_encodings = tokenizer(train_texts, truncation=True, padding=True, max_length=64, return_tensors='pt')\n",
    "train_labels = torch.tensor(train_labels, dtype=torch.float)\n",
    "\n",
    "# Tokenize and encode the validation data\n",
    "val_encodings = tokenizer(val_texts, truncation=True, padding=True, max_length=64, return_tensors='pt')\n",
    "val_labels = torch.tensor(val_labels, dtype=torch.float)\n",
    "\n",
    "# DataLoaders\n",
    "train_dataset = torch.utils.data.TensorDataset(train_encodings['input_ids'], train_encodings['attention_mask'], train_labels)\n",
    "val_dataset = torch.utils.data.TensorDataset(val_encodings['input_ids'], val_encodings['attention_mask'], val_labels)\n",
    "\n",
    "train_loader = torch.utils.data.DataLoader(train_dataset, batch_size=8, shuffle=True)\n",
    "val_loader = torch.utils.data.DataLoader(val_dataset, batch_size=8, shuffle=False)\n",
    "\n",
    "# Training\n",
    "device = torch.device(\"cuda\" if torch.cuda.is_available() else \"cpu\")\n",
    "model.to(device)\n",
    "optimizer = AdamW(model.parameters(), lr=2e-5)\n",
    "\n",
    "epochs = 3"
   ]
  },
  {
   "cell_type": "code",
   "execution_count": 37,
   "metadata": {},
   "outputs": [],
   "source": [
    "for epoch in range(epochs):\n",
    "    model.train()\n",
    "    for batch in train_loader:\n",
    "        input_ids, attention_mask, labels = batch\n",
    "        input_ids, attention_mask, labels = input_ids.to(device), attention_mask.to(device), labels.to(device)\n",
    "\n",
    "        optimizer.zero_grad()\n",
    "\n",
    "        outputs = model(input_ids, attention_mask=attention_mask, labels=labels)\n",
    "        loss = outputs.loss\n",
    "        loss.backward()\n",
    "        optimizer.step()"
   ]
  },
  {
   "cell_type": "code",
   "execution_count": 19,
   "metadata": {},
   "outputs": [
    {
     "name": "stdout",
     "output_type": "stream",
     "text": [
      "Model saved to 'bert_model'\n"
     ]
    }
   ],
   "source": [
    "model.save_pretrained(\"bert_model\")\n",
    "tokenizer.save_pretrained(\"bert_model\")\n",
    "print(\"Model saved to 'bert_model'\")"
   ]
  },
  {
   "cell_type": "code",
   "execution_count": 47,
   "metadata": {},
   "outputs": [
    {
     "name": "stdout",
     "output_type": "stream",
     "text": [
      "The model predicts: 'Azalea LED Bed Frame PU Leather Gas Lift Storage - Black King' is a PRODUCT with probability 0.9998.\n"
     ]
    }
   ],
   "source": [
    "tokenizer = BertTokenizer.from_pretrained('bert_model')\n",
    "model = BertForSequenceClassification.from_pretrained('bert_model')\n",
    "\n",
    "def predict_text(text, threshold=0.9998):\n",
    "    inputs = tokenizer(text, return_tensors=\"pt\", truncation=True, padding=True, max_length=64)\n",
    "    \n",
    "    outputs = model(**inputs)\n",
    "    logits = outputs.logits\n",
    "    predicted_proba = torch.softmax(logits, dim=1)[0][1].item()  # Probability for the 'PRODUCT' class\n",
    "    \n",
    "    predicted_label = 1 if predicted_proba >= threshold else 0\n",
    "    \n",
    "    return predicted_label, predicted_proba\n",
    "\n",
    "text_to_predict = \"Azalea LED Bed Frame PU Leather Gas Lift Storage - Black King\"\n",
    "predicted_label, predicted_proba = predict_text(text_to_predict)\n",
    "\n",
    "if predicted_label == 1:\n",
    "    print(f\"The model predicts: '{text_to_predict}' is a PRODUCT with probability {predicted_proba:.4f}.\")\n",
    "else:\n",
    "    print(f\"The model predicts: '{text_to_predict}' is NOT a PRODUCT with probability {predicted_proba:.4f}.\")"
   ]
  }
 ],
 "metadata": {
  "kernelspec": {
   "display_name": ".venv",
   "language": "python",
   "name": "python3"
  },
  "language_info": {
   "codemirror_mode": {
    "name": "ipython",
    "version": 3
   },
   "file_extension": ".py",
   "mimetype": "text/x-python",
   "name": "python",
   "nbconvert_exporter": "python",
   "pygments_lexer": "ipython3",
   "version": "3.11.3"
  }
 },
 "nbformat": 4,
 "nbformat_minor": 2
}
