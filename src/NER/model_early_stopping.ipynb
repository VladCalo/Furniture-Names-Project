{
 "cells": [
  {
   "cell_type": "code",
   "execution_count": 38,
   "metadata": {},
   "outputs": [],
   "source": [
    "import torch\n",
    "from transformers import BertTokenizer, BertForSequenceClassification, AdamW\n",
    "from torch.utils.data import DataLoader, Dataset\n",
    "from sklearn.model_selection import train_test_split\n",
    "from sklearn.metrics import accuracy_score\n",
    "import pandas as pd\n",
    "from torch.optim.lr_scheduler import ReduceLROnPlateau\n",
    "import matplotlib.pyplot as plt\n",
    "import numpy as np\n",
    "\n"
   ]
  },
  {
   "cell_type": "code",
   "execution_count": 39,
   "metadata": {},
   "outputs": [],
   "source": [
    "BATCH_SIZE = 8\n",
    "LR = 3e-5\n",
    "NUM_EPOCHS = 10\n",
    "EARLY_STOPPING_PATIENCE = 5\n",
    "\n",
    "# BATCH_SIZE = 8\n",
    "# LR = 3e-5\n",
    "# NUM_EPOCHS = 10\n",
    "\n",
    "# second best\n",
    "# BATCH_SIZE = 16\n",
    "# LR = 3e-5\n",
    "# NUM_EPOCHS = 10\n",
    "\n",
    "# BATCH_SIZE = 16\n",
    "# LR = 2e-5\n",
    "# NUM_EPOCHS = 10\n",
    "\n",
    "\n",
    "# BATCH_SIZE = 16\n",
    "# LR = 5e-5\n",
    "# NUM_EPOCHS = 10\n",
    "\n",
    "#best\n",
    "# BATCH_SIZE = 8\n",
    "# LR = 2e-5\n",
    "# NUM_EPOCHS = 10\n",
    "# EARLY_STOPPING_PATIENCE = 5\n",
    "\n",
    "# BATCH_SIZE = 16\n",
    "# LR = 1e-5\n",
    "# NUM_EPOCHS = 10\n",
    "\n",
    "# BATCH_SIZE = 8\n",
    "# LR = 1e-5\n",
    "# NUM_EPOCHS = 10"
   ]
  },
  {
   "cell_type": "code",
   "execution_count": 40,
   "metadata": {},
   "outputs": [
    {
     "name": "stdout",
     "output_type": "stream",
     "text": [
      "                                                Text  Label\n",
      "0         Factory Buys 32Cm Euro Top Mattress - King      1\n",
      "1  Savannah Grey Bed Frame Fabric Gas Lift Storag...      1\n",
      "2  Azalea Led Bed Frame Pu Leather Gas Lift Stora...      1\n"
     ]
    }
   ],
   "source": [
    "data = pd.read_csv('/Users/vladcalomfirescu/Desktop/MyFiles/DEV/ML/Veridion-Project/data1/all_data.csv')\n",
    "data['Label'] = (data['Label'] == 'PRODUCT').astype(int)\n",
    "data['Text'] = data['Text'].str.title()\n",
    "\n",
    "print(data.head(3))"
   ]
  },
  {
   "cell_type": "code",
   "execution_count": 41,
   "metadata": {},
   "outputs": [],
   "source": [
    "tokenizer = BertTokenizer.from_pretrained('bert-base-uncased')\n",
    "\n",
    "tokenized_data = tokenizer(list(data['Text']), truncation=True, padding=True, return_tensors='pt', max_length=128)\n",
    "\n",
    "labels = torch.tensor(list(data['Label']))\n",
    "\n",
    "dataset = torch.utils.data.TensorDataset(tokenized_data['input_ids'], tokenized_data['attention_mask'], labels)\n",
    "\n",
    "train_dataset, val_dataset = train_test_split(dataset, test_size=0.1, random_state=42)\n"
   ]
  },
  {
   "cell_type": "code",
   "execution_count": 42,
   "metadata": {},
   "outputs": [
    {
     "name": "stderr",
     "output_type": "stream",
     "text": [
      "Some weights of BertForSequenceClassification were not initialized from the model checkpoint at bert-base-uncased and are newly initialized: ['classifier.bias', 'classifier.weight']\n",
      "You should probably TRAIN this model on a down-stream task to be able to use it for predictions and inference.\n"
     ]
    }
   ],
   "source": [
    "train_loader = DataLoader(train_dataset, batch_size=BATCH_SIZE, shuffle=True)\n",
    "val_loader = DataLoader(val_dataset, batch_size=BATCH_SIZE, shuffle=False)\n",
    "\n",
    "model = BertForSequenceClassification.from_pretrained('bert-base-uncased', num_labels=1)"
   ]
  },
  {
   "cell_type": "code",
   "execution_count": 43,
   "metadata": {},
   "outputs": [
    {
     "name": "stderr",
     "output_type": "stream",
     "text": [
      "/Users/vladcalomfirescu/Desktop/MyFiles/DEV/ML/Veridion-Project/.venv/lib/python3.11/site-packages/transformers/optimization.py:411: FutureWarning: This implementation of AdamW is deprecated and will be removed in a future version. Use the PyTorch implementation torch.optim.AdamW instead, or set `no_deprecation_warning=True` to disable this warning\n",
      "  warnings.warn(\n"
     ]
    }
   ],
   "source": [
    "optimizer = AdamW(model.parameters(), lr=LR)\n",
    "scheduler = ReduceLROnPlateau(optimizer, mode='min', factor=0.1, patience=2, verbose=True)\n",
    "loss_fn = torch.nn.BCEWithLogitsLoss()\n",
    "\n",
    "best_val_loss = float('inf')\n",
    "early_stopping_counter = 0"
   ]
  },
  {
   "cell_type": "code",
   "execution_count": 44,
   "metadata": {},
   "outputs": [],
   "source": [
    "# for epoch in range(NUM_EPOCHS):\n",
    "#         model.train()\n",
    "#         total_loss = 0\n",
    "\n",
    "#         for batch in train_loader:\n",
    "#             input_ids, attention_mask, labels = batch\n",
    "\n",
    "#             optimizer.zero_grad()\n",
    "\n",
    "#             outputs = model(input_ids=input_ids, attention_mask=attention_mask, labels=labels.unsqueeze(1).float())\n",
    "#             loss = outputs.loss\n",
    "#             loss.backward()\n",
    "#             optimizer.step()\n",
    "\n",
    "#             total_loss += loss.item()\n",
    "\n",
    "#         print(f'Epoch {epoch + 1}/{NUM_EPOCHS}, Loss: {total_loss / len(train_loader)}')\n",
    "\n",
    "#         model.eval()\n",
    "#         val_predictions = []\n",
    "#         val_labels = []\n",
    "\n",
    "#         with torch.no_grad():\n",
    "#             for batch in val_loader:\n",
    "#                 input_ids, attention_mask, labels = batch\n",
    "\n",
    "#                 outputs = model(input_ids=input_ids, attention_mask=attention_mask)\n",
    "#                 predictions = torch.sigmoid(outputs.logits.squeeze())\n",
    "\n",
    "#                 val_predictions.extend(predictions.cpu().numpy())\n",
    "#                 val_labels.extend(labels.cpu().numpy())\n",
    "\n",
    "#         val_loss = loss_fn(torch.tensor(val_predictions).squeeze(), torch.tensor(val_labels).float())\n",
    "\n",
    "#         scheduler.step(val_loss)\n",
    "\n",
    "#         if val_loss < best_val_loss:\n",
    "#             best_val_loss = val_loss\n",
    "#             early_stopping_counter = 0\n",
    "#         else:\n",
    "#             early_stopping_counter += 1\n",
    "#             if early_stopping_counter >= EARLY_STOPPING_PATIENCE:\n",
    "#                 print(f'Early stopping after {epoch + 1} epochs')\n",
    "#                 break\n"
   ]
  },
  {
   "cell_type": "code",
   "execution_count": 45,
   "metadata": {},
   "outputs": [
    {
     "name": "stdout",
     "output_type": "stream",
     "text": [
      "Epoch 1/10, Training Loss: 0.08345414102077484\n",
      "Validation Loss: 0.3919040858745575\n",
      "Epoch 2/10, Training Loss: 0.011596206395188347\n",
      "Validation Loss: 0.3941197991371155\n",
      "Epoch 3/10, Training Loss: 0.009037444146815687\n",
      "Validation Loss: 0.3911704421043396\n",
      "Epoch 4/10, Training Loss: 0.007618008169811219\n",
      "Validation Loss: 0.3970574140548706\n",
      "Epoch 5/10, Training Loss: 0.0071809474262408916\n",
      "Validation Loss: 0.39374926686286926\n",
      "Epoch 6/10, Training Loss: 0.005137972277589142\n",
      "Validation Loss: 0.3912927210330963\n",
      "Epoch 00006: reducing learning rate of group 0 to 3.0000e-06.\n",
      "Epoch 7/10, Training Loss: 0.0031032066908665\n",
      "Validation Loss: 0.39414337277412415\n",
      "Epoch 8/10, Training Loss: 0.004023313918150961\n",
      "Validation Loss: 0.393717885017395\n",
      "Early stopping after 8 epochs\n"
     ]
    },
    {
     "data": {
      "image/png": "[encoded data removed]",
      "text/plain": [
       "<Figure size 640x480 with 1 Axes>"
      ]
     },
     "metadata": {},
     "output_type": "display_data"
    }
   ],
   "source": [
    "train_losses = []\n",
    "val_losses = []\n",
    "\n",
    "for epoch in range(NUM_EPOCHS):\n",
    "    model.train()\n",
    "    total_loss = 0\n",
    "\n",
    "    for batch in train_loader:\n",
    "        input_ids, attention_mask, labels = batch\n",
    "\n",
    "        optimizer.zero_grad()\n",
    "\n",
    "        outputs = model(input_ids=input_ids, attention_mask=attention_mask, labels=labels.unsqueeze(1).float())\n",
    "        loss = outputs.loss\n",
    "        loss.backward()\n",
    "        optimizer.step()\n",
    "\n",
    "        total_loss += loss.item()\n",
    "\n",
    "    # Calculate and store training loss\n",
    "    train_loss = total_loss / len(train_loader)\n",
    "    train_losses.append(train_loss)\n",
    "\n",
    "    print(f'Epoch {epoch + 1}/{NUM_EPOCHS}, Training Loss: {train_loss}')\n",
    "\n",
    "    model.eval()\n",
    "    val_predictions = []\n",
    "    val_labels = []\n",
    "\n",
    "    with torch.no_grad():\n",
    "        for batch in val_loader:\n",
    "            input_ids, attention_mask, labels = batch\n",
    "\n",
    "            outputs = model(input_ids=input_ids, attention_mask=attention_mask)\n",
    "            predictions = torch.sigmoid(outputs.logits.squeeze())\n",
    "\n",
    "            val_predictions.extend(predictions.cpu().numpy())\n",
    "            val_labels.extend(labels.cpu().numpy())\n",
    "\n",
    "    val_loss = loss_fn(torch.tensor(val_predictions).squeeze(), torch.tensor(val_labels).float())\n",
    "    val_losses.append(val_loss.item())\n",
    "\n",
    "    print(f'Validation Loss: {val_loss}')\n",
    "\n",
    "    scheduler.step(val_loss)\n",
    "\n",
    "    if val_loss < best_val_loss:\n",
    "        best_val_loss = val_loss\n",
    "        early_stopping_counter = 0\n",
    "    else:\n",
    "        early_stopping_counter += 1\n",
    "        if early_stopping_counter >= EARLY_STOPPING_PATIENCE:\n",
    "            print(f'Early stopping after {epoch + 1} epochs')\n",
    "            break\n",
    "\n",
    "epochs = np.arange(1, len(train_losses) + 1)\n",
    "plt.plot(epochs, train_losses, label='Training Loss')\n",
    "plt.plot(epochs, val_losses, label='Validation Loss')\n",
    "plt.xlabel('Epoch')\n",
    "plt.ylabel('Loss')\n",
    "plt.title('Training and Validation Losses Over Epochs')\n",
    "plt.legend()\n",
    "plt.show()"
   ]
  },
  {
   "cell_type": "code",
   "execution_count": 15,
   "metadata": {},
   "outputs": [],
   "source": [
    "model.save_pretrained('furniture_model1')"
   ]
  },
  {
   "cell_type": "code",
   "execution_count": 19,
   "metadata": {},
   "outputs": [
    {
     "name": "stdout",
     "output_type": "stream",
     "text": [
      "Predicted Probability: 0.739781379699707\n",
      "Predicted Label: Furniture\n"
     ]
    }
   ],
   "source": [
    "loaded_model = BertForSequenceClassification.from_pretrained('furniture_model1')\n",
    "\n",
    "def predict_text(model, text, threshold=0.5):\n",
    "    model.eval()\n",
    "    inputs = tokenizer(text, truncation=True, padding=True, return_tensors='pt', max_length=128)\n",
    "    outputs = loaded_model(**inputs)\n",
    "    prediction = torch.sigmoid(outputs.logits.squeeze()).item()\n",
    "\n",
    "    print(f\"Predicted Probability: {prediction}\")\n",
    "\n",
    "    if prediction >= threshold:\n",
    "        print(\"Predicted Label: Furniture\")\n",
    "    else:\n",
    "        print(\"Predicted Label: Not Furniture\")\n",
    "\n",
    "predict_text(loaded_model, \"Azalea Bed Frame\", threshold=0.73)"
   ]
  }
 ],
 "metadata": {
  "kernelspec": {
   "display_name": ".venv",
   "language": "python",
   "name": "python3"
  },
  "language_info": {
   "codemirror_mode": {
    "name": "ipython",
    "version": 3
   },
   "file_extension": ".py",
   "mimetype": "text/x-python",
   "name": "python",
   "nbconvert_exporter": "python",
   "pygments_lexer": "ipython3",
   "version": "3.11.3"
  }
 },
 "nbformat": 4,
 "nbformat_minor": 2
}
